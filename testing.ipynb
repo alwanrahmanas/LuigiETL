{
 "cells": [
  {
   "cell_type": "code",
   "execution_count": 9,
   "metadata": {},
   "outputs": [],
   "source": [
    "from Transform import *\n",
    "import pandas as pd\n",
    "import matplotlib.pyplot as plt\n",
    "\n",
    "# Sample data for customer DataFrame\n",
    "data_customer = {\n",
    "    'customer_id': [1, 2, 3, 4],\n",
    "    'first_name': ['John', 'Jane', 'Alice', 'Bob'],\n",
    "    'last_name': ['Doe', 'Smith', 'Johnson', 'Brown'],\n",
    "    'email': ['john.doe@example.com', 'jane.smith@example.com', 'alice.johnson@example.com', 'bob.brown@example.com']\n",
    "}\n",
    "\n",
    "# Sample data for reservation DataFrame\n",
    "data_reservation = {\n",
    "    'reservation_id': [101, 102, 103, 104],\n",
    "    'customer_id': [1, 2, 3, 4],\n",
    "    'reservation_date': ['2023-10-01', '2023-10-02', '2023-10-03', '2023-10-04'],\n",
    "    'total_price': [100, 200, 150, 300]\n",
    "}\n",
    "\n",
    "# Sample data for payment DataFrame\n",
    "data_payment = {\n",
    "    'reservation_id': [101, 102, 103, 104],\n",
    "    'payment_date': ['2023-10-01', '2023-10-02', None, '2023-10-04'],\n",
    "    'payment_status': ['Paid', 'Paid', 'Pending', 'Paid']\n",
    "}\n",
    "\n"
   ]
  },
  {
   "cell_type": "code",
   "execution_count": 10,
   "metadata": {},
   "outputs": [
    {
     "name": "stdout",
     "output_type": "stream",
     "text": [
      "Customer DataFrame:\n",
      "   customer_id first_name last_name                      email\n",
      "0            1       John       Doe       john.doe@example.com\n",
      "1            2       Jane     Smith     jane.smith@example.com\n",
      "2            3      Alice   Johnson  alice.johnson@example.com\n",
      "3            4        Bob     Brown      bob.brown@example.com\n",
      "\n",
      "Reservation DataFrame:\n",
      "   reservation_id  customer_id reservation_date  total_price\n",
      "0             101            1       2023-10-01          100\n",
      "1             102            2       2023-10-02          200\n",
      "2             103            3       2023-10-03          150\n",
      "3             104            4       2023-10-04          300\n",
      "\n",
      "Payment DataFrame:\n",
      "   reservation_id payment_date payment_status\n",
      "0             101   2023-10-01           Paid\n",
      "1             102   2023-10-02           Paid\n",
      "2             103         None        Pending\n",
      "3             104   2023-10-04           Paid\n"
     ]
    }
   ],
   "source": [
    "# Create DataFrames\n",
    "df_customer = pd.DataFrame(data_customer)\n",
    "df_reservation = pd.DataFrame(data_reservation)\n",
    "df_payment = pd.DataFrame(data_payment)\n",
    "\n",
    "# Display the DataFrames\n",
    "print(\"Customer DataFrame:\")\n",
    "print(df_customer)\n",
    "print(\"\\nReservation DataFrame:\")\n",
    "print(df_reservation)\n",
    "print(\"\\nPayment DataFrame:\")\n",
    "print(df_payment)\n",
    "\n"
   ]
  },
  {
   "cell_type": "code",
   "execution_count": 11,
   "metadata": {},
   "outputs": [
    {
     "name": "stdout",
     "output_type": "stream",
     "text": [
      "\n",
      "Joined DataFrame (Customer + Reservation):\n",
      "   customer_id first_name last_name                      email  \\\n",
      "0            1       John       Doe       john.doe@example.com   \n",
      "1            2       Jane     Smith     jane.smith@example.com   \n",
      "2            3      Alice   Johnson  alice.johnson@example.com   \n",
      "3            4        Bob     Brown      bob.brown@example.com   \n",
      "\n",
      "   reservation_id reservation_date  total_price  \n",
      "0             101       2023-10-01          100  \n",
      "1             102       2023-10-02          200  \n",
      "2             103       2023-10-03          150  \n",
      "3             104       2023-10-04          300  \n"
     ]
    }
   ],
   "source": [
    "# Test inner_join function\n",
    "df_joined = inner_join(df_customer, df_reservation, 'customer_id')\n",
    "print(\"\\nJoined DataFrame (Customer + Reservation):\")\n",
    "print(df_joined)\n",
    "\n"
   ]
  },
  {
   "cell_type": "code",
   "execution_count": 12,
   "metadata": {},
   "outputs": [
    {
     "name": "stdout",
     "output_type": "stream",
     "text": [
      "\n",
      "Transformed DataFrame (After handling_col):\n",
      "   customer_id first_name last_name                      email  \\\n",
      "0            1       John       Doe       john.doe@example.com   \n",
      "1            2       Jane     Smith     jane.smith@example.com   \n",
      "2            3      Alice   Johnson  alice.johnson@example.com   \n",
      "3            4        Bob     Brown      bob.brown@example.com   \n",
      "\n",
      "   reservation_id reservation_date  total_price      full_name currency  \\\n",
      "0             101       2023-10-01          100       John Doe      IDR   \n",
      "1             102       2023-10-02          200     Jane Smith      IDR   \n",
      "2             103       2023-10-03          150  Alice Johnson      IDR   \n",
      "3             104       2023-10-04          300      Bob Brown      IDR   \n",
      "\n",
      "  email_domain  \n",
      "0  example.com  \n",
      "1  example.com  \n",
      "2  example.com  \n",
      "3  example.com  \n"
     ]
    }
   ],
   "source": [
    "# Test handling_col function\n",
    "df_transformed = handling_col(df_joined)\n",
    "print(\"\\nTransformed DataFrame (After handling_col):\")\n",
    "print(df_transformed)"
   ]
  },
  {
   "cell_type": "code",
   "execution_count": 13,
   "metadata": {},
   "outputs": [
    {
     "name": "stdout",
     "output_type": "stream",
     "text": [
      "\n",
      "Selected Columns DataFrame:\n",
      "   reservation_id      full_name                      email email_domain  \\\n",
      "0             101       John Doe       john.doe@example.com  example.com   \n",
      "1             102     Jane Smith     jane.smith@example.com  example.com   \n",
      "2             103  Alice Johnson  alice.johnson@example.com  example.com   \n",
      "3             104      Bob Brown      bob.brown@example.com  example.com   \n",
      "\n",
      "  reservation_date  total_price currency  \n",
      "0       2023-10-01          100      IDR  \n",
      "1       2023-10-02          200      IDR  \n",
      "2       2023-10-03          150      IDR  \n",
      "3       2023-10-04          300      IDR  \n"
     ]
    }
   ],
   "source": [
    "# Test select_col function\n",
    "df_selected = select_col(df_transformed)\n",
    "print(\"\\nSelected Columns DataFrame:\")\n",
    "print(df_selected)"
   ]
  },
  {
   "cell_type": "code",
   "execution_count": 14,
   "metadata": {},
   "outputs": [
    {
     "name": "stdout",
     "output_type": "stream",
     "text": [
      "\n",
      "Missing Values Info:\n",
      "                Missing Values  Missing Percentage\n",
      "reservation_id               0                 0.0\n",
      "payment_date                 1                25.0\n",
      "payment_status               0                 0.0\n"
     ]
    }
   ],
   "source": [
    "# Test check_missing_value function\n",
    "missing_info = check_missing_value(df_payment)\n",
    "print(\"\\nMissing Values Info:\")\n",
    "print(missing_info)\n",
    "\n"
   ]
  },
  {
   "cell_type": "code",
   "execution_count": 15,
   "metadata": {},
   "outputs": [
    {
     "data": {
      "image/png": "[encoded data removed]",
      "text/plain": [
       "<Figure size 640x480 with 1 Axes>"
      ]
     },
     "metadata": {},
     "output_type": "display_data"
    }
   ],
   "source": [
    "# Test visualize_missing_values function\n",
    "visualize_missing_values(df_payment)"
   ]
  },
  {
   "cell_type": "code",
   "execution_count": 16,
   "metadata": {},
   "outputs": [
    {
     "name": "stdout",
     "output_type": "stream",
     "text": [
      "\n",
      "DataFrame After Filling Missing Values:\n",
      "   reservation_id  payment_date payment_status\n",
      "0             101    2023-10-01           Paid\n",
      "1             102    2023-10-02           Paid\n",
      "2             103  Missing Data        Pending\n",
      "3             104    2023-10-04           Paid\n"
     ]
    }
   ],
   "source": [
    "# Test fill_missing_values function\n",
    "df_filled = fill_missing_values(df_payment)\n",
    "print(\"\\nDataFrame After Filling Missing Values:\")\n",
    "print(df_filled)"
   ]
  },
  {
   "cell_type": "code",
   "execution_count": 17,
   "metadata": {},
   "outputs": [
    {
     "data": {
      "text/plain": [
       "reservation_id    0\n",
       "payment_date      0\n",
       "payment_status    0\n",
       "dtype: int64"
      ]
     },
     "execution_count": 17,
     "metadata": {},
     "output_type": "execute_result"
    }
   ],
   "source": [
    "df_filled.isna().sum()"
   ]
  }
 ],
 "metadata": {
  "kernelspec": {
   "display_name": "Alwan",
   "language": "python",
   "name": "python3"
  },
  "language_info": {
   "codemirror_mode": {
    "name": "ipython",
    "version": 3
   },
   "file_extension": ".py",
   "mimetype": "text/x-python",
   "name": "python",
   "nbconvert_exporter": "python",
   "pygments_lexer": "ipython3",
   "version": "3.12.8"
  }
 },
 "nbformat": 4,
 "nbformat_minor": 2
}
